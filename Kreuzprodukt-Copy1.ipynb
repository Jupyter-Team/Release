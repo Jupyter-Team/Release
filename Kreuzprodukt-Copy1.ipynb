{
 "cells": [
  {
   "cell_type": "code",
   "execution_count": 1,
   "metadata": {},
   "outputs": [],
   "source": [
    "%matplotlib inline\n",
    "import numpy as np\n",
    "import matplotlib.pyplot as plt\n",
    "from mpl_toolkits.mplot3d import Axes3D\n",
    "import mpl_toolkits.mplot3d as a3\n",
    "import matplotlib.colors as colors\n",
    "from matplotlib.patches import Circle\n",
    "import mpl_toolkits.mplot3d.art3d as art3d\n",
    "\n",
    "import ipywidgets as widgets\n",
    "from ipywidgets import interact\n",
    "\n",
    "from IPython.display import Markdown, clear_output, display, HTML"
   ]
  },
  {
   "cell_type": "code",
   "execution_count": 2,
   "metadata": {},
   "outputs": [],
   "source": [
    "ursprunga = [0,0,0]\n",
    "vektora = [1,0,0]\n",
    "ursprungb = [0,0,0]\n",
    "\n",
    "def plotKreuzprodukt(winkel):\n",
    "    \n",
    "    # Vektoren b und axb berechnen\n",
    "    vektorb = [np.cos(winkel/180*np.pi), np.sin(winkel/180*np.pi),0]\n",
    "    ursprungab = [0,0,0]\n",
    "    vektorab = np.cross(vektora, vektorb)\n",
    "    \n",
    "    # Figure erzeugen\n",
    "    fig = plt.figure(figsize=(10,10))\n",
    "    ax = fig.gca(projection='3d')\n",
    "    \n",
    "    # Vektor a zeichen\n",
    "    ax.quiver(*ursprunga, *vektora, color=\"b\", label=\"a\")\n",
    "    # Vektor b zeichen\n",
    "    ax.quiver(*ursprungb, *vektorb, color=\"g\", label=\"b\")\n",
    "    # Vektor axb zeichen\n",
    "    ax.quiver(*ursprungab, *vektorab, color=\"r\", label=\"axb\")\n",
    "    \n",
    "    # Einheitskreis einzeichnen\n",
    "    p = Circle(xy=(0,0), radius=1, linewidth=1, fill=False, label=\"Einheitskreis\")\n",
    "    ax.add_patch(p)\n",
    "    art3d.pathpatch_2d_to_3d(p)\n",
    "    \n",
    "    # Fläche einzeichnen\n",
    "    fp = [(0,0,0),\n",
    "          (1,0,0),\n",
    "          (vektorb[0]+1.0, vektorb[1], vektorb[2]),\n",
    "          (vektorb[0], vektorb[1], vektorb[2])]\n",
    "    f = a3.art3d.Poly3DCollection([fp], alpha=0.3)\n",
    "    f.set_color(colors.BASE_COLORS[\"y\"])\n",
    "    ax.add_collection3d(f)\n",
    "\n",
    "    # Koords. begrenzen\n",
    "    ax.set_xlim(-1,1)\n",
    "    ax.set_ylim(-1,1)\n",
    "    ax.set_zlim(-1,1)\n",
    "    # Koords. beschriften\n",
    "    ax.set_xticks([-1,0,1])\n",
    "    ax.set_yticks([-1,0,1])\n",
    "    ax.set_zticks([-1,0,1])\n",
    "    \n",
    "    ax.legend()\n",
    "    plt.show()"
   ]
  },
  {
   "cell_type": "code",
   "execution_count": 3,
   "metadata": {},
   "outputs": [
    {
     "data": {
      "text/html": [
       "<script>$(\"div.input\").hide()</script>"
      ],
      "text/plain": [
       "<IPython.core.display.HTML object>"
      ]
     },
     "metadata": {},
     "output_type": "display_data"
    },
    {
     "data": {
      "application/vnd.jupyter.widget-view+json": {
       "model_id": "a157cd5e81bc4c48bcd66148fc896775",
       "version_major": 2,
       "version_minor": 0
      },
      "text/plain": [
       "ToggleButton(value=False, description='Quellcode anzeigen')"
      ]
     },
     "metadata": {},
     "output_type": "display_data"
    }
   ],
   "source": [
    "javascript_funktion = {False: \"hide()\", True: \"show()\"}\n",
    "schaltflaeche  = {False: \"Quellcode anzeigen\", True: \"Quellcode verbergen\"}\n",
    "\n",
    "\n",
    "def quellcode_umschalten(state):\n",
    "\n",
    "    output_string = \"<script>$(\\\"div.input\\\").{}</script>\"\n",
    "    output_args   = (javascript_funktion[state],)\n",
    "    output        = output_string.format(*output_args)\n",
    "    display(HTML(output))\n",
    "\n",
    "\n",
    "def schaltflaeche_aktion(value):\n",
    "\n",
    "    state = value.new\n",
    "    quellcode_umschalten(state)\n",
    "    value.owner.description = schaltflaeche[state]\n",
    "\n",
    "\n",
    "state = False\n",
    "quellcode_umschalten(state)\n",
    "\n",
    "button = widgets.ToggleButton(state, description = schaltflaeche[state])\n",
    "button.observe(schaltflaeche_aktion, \"value\")\n",
    "\n",
    "display(button)"
   ]
  },
  {
   "cell_type": "code",
   "execution_count": 4,
   "metadata": {
    "scrolled": false
   },
   "outputs": [
    {
     "data": {
      "application/vnd.jupyter.widget-view+json": {
       "model_id": "009fee282a5b4a22bd6f33e9fd0f046c",
       "version_major": 2,
       "version_minor": 0
      },
      "text/plain": [
       "interactive(children=(IntSlider(value=0, description='Winkel [°]', max=360), Output()), _dom_classes=('widget-…"
      ]
     },
     "metadata": {},
     "output_type": "display_data"
    },
    {
     "data": {
      "text/plain": [
       "<function __main__.plotKreuzprodukt(winkel)>"
      ]
     },
     "execution_count": 4,
     "metadata": {},
     "output_type": "execute_result"
    }
   ],
   "source": [
    "interact(plotKreuzprodukt,\n",
    "         winkel=widgets.IntSlider(value=0, min=0, max=360, step=1, description=\"Winkel [°]\"))"
   ]
  },
  {
   "cell_type": "code",
   "execution_count": null,
   "metadata": {},
   "outputs": [],
   "source": []
  }
 ],
 "metadata": {
  "kernelspec": {
   "display_name": "Python 3",
   "language": "python",
   "name": "python3"
  },
  "language_info": {
   "codemirror_mode": {
    "name": "ipython",
    "version": 3
   },
   "file_extension": ".py",
   "mimetype": "text/x-python",
   "name": "python",
   "nbconvert_exporter": "python",
   "pygments_lexer": "ipython3",
   "version": "3.8.3"
  }
 },
 "nbformat": 4,
 "nbformat_minor": 2
}
